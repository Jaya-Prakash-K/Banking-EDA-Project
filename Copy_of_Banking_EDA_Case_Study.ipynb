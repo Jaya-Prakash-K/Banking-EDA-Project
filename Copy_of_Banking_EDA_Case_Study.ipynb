{
  "cells": [
    {
      "cell_type": "markdown",
      "metadata": {
        "id": "view-in-github",
        "colab_type": "text"
      },
      "source": [
        "<a href=\"https://colab.research.google.com/github/Jaya-Prakash-K/Banking-EDA-Project/blob/main/Copy_of_Banking_EDA_Case_Study.ipynb\" target=\"_parent\"><img src=\"https://colab.research.google.com/assets/colab-badge.svg\" alt=\"Open In Colab\"/></a>"
      ]
    },
    {
      "cell_type": "markdown",
      "source": [
        "# Insights of EDA:\n",
        "\n",
        "1. the Strongest positive correlation occur among 'Bank Deposits\" with \"Checking Acocounts\". 'Savings Accounts' anf 'Foreign Currency Account' Indicating that customers who maintain high balances in one account type often hold substantial amount/funds across other accounts as well\n"
      ],
      "metadata": {
        "id": "C49OOc7KT3MF"
      }
    },
    {
      "cell_type": "markdown",
      "source": [
        "Analysis is done now final thing is to present the analysis using tools."
      ],
      "metadata": {
        "id": "s01KzwYVVW1T"
      }
    },
    {
      "cell_type": "markdown",
      "source": [
        "check data -> no of pages i want -> sketch -> canva or tool for background -> onboard all numbers and columns etc.\n",
        "\n",
        "1 page for Loan analysis\n",
        "2 page for deposist\n",
        "3 summar\n",
        "4 Ask QA\n",
        "and HOME page at starting"
      ],
      "metadata": {
        "id": "uN_Bs_icVghj"
      }
    },
    {
      "cell_type": "code",
      "source": [],
      "metadata": {
        "id": "MLhUh411UwGP"
      },
      "execution_count": null,
      "outputs": []
    }
  ],
  "metadata": {
    "colab": {
      "provenance": [],
      "toc_visible": true,
      "include_colab_link": true
    },
    "kernelspec": {
      "display_name": "Python 3",
      "name": "python3"
    }
  },
  "nbformat": 4,
  "nbformat_minor": 0
}